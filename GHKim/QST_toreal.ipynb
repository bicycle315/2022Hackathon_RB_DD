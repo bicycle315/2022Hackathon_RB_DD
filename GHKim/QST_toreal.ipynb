{
 "cells": [
  {
   "cell_type": "markdown",
   "id": "05bd6676",
   "metadata": {
    "pycharm": {
     "name": "#%% md\n"
    }
   },
   "source": [
    "# Benchmarking randomized circuits using Quantum state tomography\n",
    "# For REAL backend\n"
   ]
  },
  {
   "cell_type": "code",
   "execution_count": null,
   "outputs": [],
   "source": [],
   "metadata": {
    "collapsed": false,
    "pycharm": {
     "name": "#%%\n"
    }
   }
  },
  {
   "cell_type": "code",
   "execution_count": 250,
   "outputs": [],
   "source": [
    "def randomized_circuit(q_input, circ_number):\n",
    "    from qiskit.compiler import transpile\n",
    "    from qiskit.transpiler.passes import RemoveBarriers\n",
    "    from qiskit import QuantumCircuit\n",
    "    from qiskit.circuit.library import XGate, YGate, ZGate, IGate\n",
    "    import numpy as np\n",
    "\n",
    "    ## define easy and hard gates\n",
    "    easy_gate = ['u3', 'id']\n",
    "    hard_gate = ['cx']\n",
    "    twirling = ['id', 'x', 'y', 'z']\n",
    "\n",
    "    ## transpile the input gate to the equivalent gate with easy and hard gates basis\n",
    "    q_transform = transpile(q_input, basis_gates=['u3', 'cx', 'id'], optimization_level=3)\n",
    "\n",
    "    random_circuit_set = []\n",
    "    running_qubits = [0, 1, 2]\n",
    "\n",
    "    ## set easy_layer sets and hard_layer sets\n",
    "    easy_layer = []\n",
    "    hard_layer = []\n",
    "    easy_layer_comp = []\n",
    "    hard_seeker = False\n",
    "    for gate in q_transform.data:\n",
    "        if gate[0].name in hard_gate:\n",
    "            hard_layer.append(gate)\n",
    "            hard_seeker=True\n",
    "            easy_layer.append(easy_layer_comp)\n",
    "            easy_layer_comp=[]\n",
    "        elif gate[0].name in easy_gate:\n",
    "            if hard_seeker:\n",
    "                hard_seeker=False\n",
    "                easy_layer_comp=[]\n",
    "            easy_layer_comp.append(gate)\n",
    "    easy_layer.append(easy_layer_comp)\n",
    "\n",
    "    def random_T():\n",
    "        rand_value = np.random.randint(4)\n",
    "        if rand_value == 0:\n",
    "            return XGate()\n",
    "        elif rand_value == 1:\n",
    "            return YGate()\n",
    "        elif rand_value == 2:\n",
    "            return ZGate()\n",
    "        elif rand_value == 3:\n",
    "            return IGate()\n",
    "\n",
    "    depth_easy = len(easy_layer)\n",
    "    depth_hard = len(hard_layer)\n",
    "    depth = depth_easy + depth_hard\n",
    "\n",
    "    for _ in np.arange(circ_number):\n",
    "        T_set = []\n",
    "        for _ in range(depth_hard):\n",
    "            T_comp = []\n",
    "            for _ in running_qubits:\n",
    "                T = random_T()\n",
    "                T_comp.append(T)\n",
    "            T_set.append(T_comp)\n",
    "\n",
    "        q_out = QuantumCircuit(q_transform.num_qubits)\n",
    "        for ind in range(depth//2 + 1):\n",
    "            # Hard layer\n",
    "            if ind > 0:\n",
    "                q_out.barrier()\n",
    "                q_out.compose(hard_layer[ind - 1][0], hard_layer[ind - 1][1], inplace=True)\n",
    "                q_out.barrier()\n",
    "            # Tc + easy + T layer (No Tc at the first layer, no T at the final layer)\n",
    "            ## Tc\n",
    "            q_temp = QuantumCircuit(q_transform.num_qubits)\n",
    "            if ind > 0:\n",
    "                q_temp.compose(hard_layer[ind - 1][0].reverse_ops(), hard_layer[ind - 1][1], inplace=True)\n",
    "                for T_ind, T in zip(running_qubits, T_set[ind-1]):\n",
    "                    q_temp.compose(T.reverse_ops(), [T_ind], inplace=True)\n",
    "                q_temp.compose(hard_layer[ind - 1][0], hard_layer[ind - 1][1], inplace=True)\n",
    "            ## easy\n",
    "            for sub_ind in np.arange(len(easy_layer[ind])):\n",
    "                q_temp.compose(easy_layer[ind][sub_ind][0], easy_layer[ind][sub_ind][1], inplace=True)\n",
    "            ## T\n",
    "            if (ind < depth//2):\n",
    "                for T_ind, T in zip(running_qubits, T_set[ind]):\n",
    "                    q_temp.compose(T, [T_ind], inplace=True)\n",
    "            q_temp = transpile(q_temp, basis_gates=['id', 'u3', 'cx'], optimization_level=3)\n",
    "\n",
    "            q_out.compose(q_temp, range(q_transform.num_qubits), inplace=True)\n",
    "        q_out = RemoveBarriers()(q_out)\n",
    "        q_out = transpile(q_out, basis_gates=['id', 'u3', 'cx'], optimization_level=3)\n",
    "\n",
    "        random_circuit_set.append(q_out)\n",
    "\n",
    "    return random_circuit_set"
   ],
   "metadata": {
    "collapsed": false,
    "pycharm": {
     "name": "#%%\n"
    }
   }
  },
  {
   "cell_type": "code",
   "execution_count": 251,
   "outputs": [],
   "source": [
    "def rc_real_backend_execute(original_circuit, randomized_circuits, backend, initial_layout, schedule, shots=1000):\n",
    "    from qiskit.compiler import transpiler\n",
    "    from qiskit import execute\n",
    "\n",
    "    job_circ_list = []\n",
    "    original_circuit_ = original_circuit.copy()\n",
    "    original_circuit_.measure_all()\n",
    "    original_circuit_ = transpile(original_circuit_, backend=backend, initial_layout=initial_layout, scheduling_method=schedule, optimization_level=3)\n",
    "    job_circ_list.append(original_circuit_)\n",
    "    for rc in randomized_circuits:\n",
    "        rc_ = rc.copy()\n",
    "        rc_.measure_all()\n",
    "        rc_ = transpile(rc_, backend=backend, initial_layout=initial_layout, scheduling_method=schedule, optimization_level=3)\n",
    "        job_circ_list.append(rc_)\n",
    "    job = execute(job_circ_list, backend=backend, shots=shots)\n",
    "\n",
    "    return job"
   ],
   "metadata": {
    "collapsed": false,
    "pycharm": {
     "name": "#%%\n"
    }
   }
  },
  {
   "cell_type": "code",
   "execution_count": 252,
   "outputs": [],
   "source": [
    "def tvd_benchmark_rc_circuit_for_real_post_call(original_circuit, randomized_circuits, job, shots=1000):\n",
    "    from qiskit.quantum_info import Statevector\n",
    "\n",
    "    n_random_circs = len(randomized_circuits)\n",
    "    state_vector = Statevector.from_instruction(original_circuit)\n",
    "    ideal_probabilities = state_vector.probabilities_dict()\n",
    "\n",
    "    bare_counts = job.result().get_counts()[0]\n",
    "    bare_counts = {key: value for key, value in sorted(bare_counts.items())}\n",
    "\n",
    "    rc_counts_list = []\n",
    "    for k in range(n_random_circs):\n",
    "        rc_counts_list.append(job.result().get_counts()[1 + k])\n",
    "    keys = set().union(*rc_counts_list)\n",
    "    rc_counts = {k: sum([cnts.get(k, 0) for cnts in rc_counts_list]) for k in keys}\n",
    "    rc_counts = {key: value for key, value in sorted(rc_counts.items())}\n",
    "\n",
    "    tvd_bare = sum(0.5 * abs(ideal_probabilities.get(key, 0) - bare_counts.get(key, 0) / shots)\n",
    "                   for key in ideal_probabilities.keys() | bare_counts.keys())\n",
    "    tvd_random = sum(0.5 * abs(ideal_probabilities.get(key, 0) - rc_counts.get(key, 0) / shots / n_random_circs)\n",
    "                     for key in ideal_probabilities.keys() | rc_counts.keys())\n",
    "\n",
    "    print(ideal_probabilities)\n",
    "    print('Original TVD: ', tvd_bare, bare_counts)\n",
    "    print('Randomized TVD: ', tvd_random, rc_counts)"
   ],
   "metadata": {
    "collapsed": false,
    "pycharm": {
     "name": "#%%\n"
    }
   }
  },
  {
   "cell_type": "code",
   "execution_count": 268,
   "outputs": [
    {
     "data": {
      "text/plain": "<Figure size 447.797x204.68 with 1 Axes>",
      "image/png": "[encoded data removed]"
     },
     "execution_count": 268,
     "metadata": {},
     "output_type": "execute_result"
    }
   ],
   "source": [
    "from qiskit.circuit.random import random_circuit\n",
    "\n",
    "\n",
    "target = random_circuit(3, 4)\n",
    "target.draw('mpl')"
   ],
   "metadata": {
    "collapsed": false,
    "pycharm": {
     "name": "#%%\n"
    }
   }
  },
  {
   "cell_type": "code",
   "execution_count": 269,
   "outputs": [
    {
     "data": {
      "text/plain": "<Figure size 1591.6x445.48 with 1 Axes>",
      "image/png": "[encoded data removed]"
     },
     "execution_count": 269,
     "metadata": {},
     "output_type": "execute_result"
    }
   ],
   "source": [
    "rc_circs = randomized_circuit(target, 10)\n",
    "rc_circs[3].draw('mpl')"
   ],
   "metadata": {
    "collapsed": false,
    "pycharm": {
     "name": "#%%\n"
    }
   }
  },
  {
   "cell_type": "code",
   "execution_count": 256,
   "outputs": [
    {
     "name": "stderr",
     "output_type": "stream",
     "text": [
      "ibmqfactory.load_account:WARNING:2022-06-28 12:35:01,759: Credentials are already in use. The existing account in the session will be replaced.\n"
     ]
    }
   ],
   "source": [
    "from qiskit import IBMQ, transpile\n",
    "from qiskit.test.mock import FakeJakarta\n",
    "\n",
    "IBMQ.load_account()\n",
    "provider = IBMQ.get_provider(hub='ibm-q-skku', group='snu', project='snu-students')\n",
    "backend = provider.get_backend('ibmq_jakarta')\n",
    "initial_layout = [4, 5, 6]\n",
    "schedule = 'alap'"
   ],
   "metadata": {
    "collapsed": false,
    "pycharm": {
     "name": "#%%\n"
    }
   }
  },
  {
   "cell_type": "code",
   "execution_count": null,
   "outputs": [],
   "source": [
    "job = rc_real_backend_execute(target, rc_circs, backend=backend, initial_layout=initial_layout, schedule=schedule, shots=10000)"
   ],
   "metadata": {
    "collapsed": false,
    "pycharm": {
     "name": "#%%\n"
    }
   }
  },
  {
   "cell_type": "code",
   "execution_count": 247,
   "outputs": [],
   "source": [
    "job = backend.retrieve_job('62ba6c805ef42cc648b28530')"
   ],
   "metadata": {
    "collapsed": false,
    "pycharm": {
     "name": "#%%\n"
    }
   }
  },
  {
   "cell_type": "code",
   "execution_count": 249,
   "outputs": [
    {
     "name": "stdout",
     "output_type": "stream",
     "text": [
      "{'000': 0.31755912290216665, '011': 0.6824408770978334}\n",
      "Original TVD:  0.24200000000000005 {'000': 308, '001': 35, '010': 113, '011': 450, '100': 23, '101': 19, '110': 19, '111': 33}\n",
      "Randomized TVD:  0.20470000000000005 {'000': 2948, '001': 362, '010': 643, '011': 5005, '100': 264, '101': 183, '110': 264, '111': 331}\n"
     ]
    }
   ],
   "source": [
    "tvd_benchmark_rc_circuit_for_real_post_call(target, rc_circs, job)"
   ],
   "metadata": {
    "collapsed": false,
    "pycharm": {
     "name": "#%%\n"
    }
   }
  },
  {
   "cell_type": "code",
   "execution_count": 262,
   "outputs": [
    {
     "data": {
      "text/plain": "300"
     },
     "execution_count": 262,
     "metadata": {},
     "output_type": "execute_result"
    }
   ],
   "source": [
    "backend.configuration().max_experiments"
   ],
   "metadata": {
    "collapsed": false,
    "pycharm": {
     "name": "#%%\n"
    }
   }
  },
  {
   "cell_type": "code",
   "execution_count": 242,
   "outputs": [],
   "source": [
    "from qiskit.test.mock import FakeJakarta\n",
    "\n",
    "backend = FakeJakarta()\n",
    "job = rc_real_backend_execute(target, rc_circs, backend=backend, initial_layout=initial_layout, schedule=schedule)"
   ],
   "metadata": {
    "collapsed": false,
    "pycharm": {
     "name": "#%%\n"
    }
   }
  },
  {
   "cell_type": "code",
   "execution_count": 241,
   "outputs": [
    {
     "name": "stdout",
     "output_type": "stream",
     "text": [
      "{'000': 0.31755912290216665, '011': 0.6824408770978334}\n",
      "Original TVD:  0.14 {'000': 302, '001': 20, '010': 45, '011': 558, '100': 15, '101': 14, '110': 22, '111': 24}\n",
      "Randomized TVD:  0.15510000000000004 {'000': 2795, '001': 298, '010': 459, '011': 5654, '100': 191, '101': 110, '110': 211, '111': 282}\n"
     ]
    }
   ],
   "source": [
    "tvd_benchmark_r:  0.14 {'000': 302, '001': 20, '010': 45, '011': 558, '100': 15, '101': 14, '110': 22, '111': 24}\n",
    "Randomized TVD:  0.15510000000000004c_circuit_for_real_post_call(target, rc_circs, job)"
   ],
   "metadata": {
    "collapsed": false,
    "pycharm": {
     "name": "#%%\n"
    }
   }
  },
  {
   "cell_type": "code",
   "execution_count": 129,
   "outputs": [],
   "source": [],
   "metadata": {
    "collapsed": false,
    "pycharm": {
     "name": "#%%\n"
    }
   }
  },
  {
   "cell_type": "code",
   "execution_count": 115,
   "outputs": [
    {
     "data": {
      "text/plain": "[{'11111': 2139, '00000': 2182}, {'00000': 2200, '11111': 2121}]"
     },
     "execution_count": 115,
     "metadata": {},
     "output_type": "execute_result"
    }
   ],
   "source": [
    "from qiskit import QuantumCircuit, execute, BasicAer\n",
    "\n",
    "backend = BasicAer.get_backend('qasm_simulator')\n",
    "\n",
    "qc = QuantumCircuit(5)\n",
    "qc.h(0)\n",
    "qc.cx(0, range(1, 5))\n",
    "qc.measure_all()\n",
    "\n",
    "job = execute([qc, qc], backend, shots=4321)\n",
    "job.result().get_counts()"
   ],
   "metadata": {
    "collapsed": false,
    "pycharm": {
     "name": "#%%\n"
    }
   }
  }
 ],
 "metadata": {
  "kernelspec": {
   "display_name": "Python 3 (ipykernel)",
   "language": "python",
   "name": "python3"
  },
  "language_info": {
   "codemirror_mode": {
    "name": "ipython",
    "version": 3
   },
   "file_extension": ".py",
   "mimetype": "text/x-python",
   "name": "python",
   "nbconvert_exporter": "python",
   "pygments_lexer": "ipython3",
   "version": "3.8.13"
  },
  "varInspector": {
   "cols": {
    "lenName": 16,
    "lenType": 16,
    "lenVar": 40
   },
   "kernels_config": {
    "python": {
     "delete_cmd_postfix": "",
     "delete_cmd_prefix": "del ",
     "library": "var_list.py",
     "varRefreshCmd": "print(var_dic_list())"
    },
    "r": {
     "delete_cmd_postfix": ") ",
     "delete_cmd_prefix": "rm(",
     "library": "var_list.r",
     "varRefreshCmd": "cat(var_dic_list()) "
    }
   },
   "types_to_exclude": [
    "module",
    "function",
    "builtin_function_or_method",
    "instance",
    "_Feature"
   ],
   "window_display": false
  }
 },
 "nbformat": 4,
 "nbformat_minor": 5
}