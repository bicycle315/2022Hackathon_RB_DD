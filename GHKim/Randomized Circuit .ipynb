{
 "cells": [
  {
   "cell_type": "code",
   "execution_count": 52,
   "metadata": {
    "pycharm": {
     "name": "#%%\n"
    }
   },
   "outputs": [
    {
     "data": {
      "text/plain": "<Figure size 267.197x204.68 with 1 Axes>",
      "image/png": "[encoded data removed]"
     },
     "execution_count": 52,
     "metadata": {},
     "output_type": "execute_result"
    }
   ],
   "source": [
    "import matplotlib.pyplot as plt\n",
    "from IPython import display\n",
    "\n",
    "import numpy as np\n",
    "from qiskit import QuantumCircuit\n",
    "qc = QuantumCircuit(3)\n",
    "\n",
    "qc.h(0)\n",
    "qc.cx(0,1)\n",
    "qc.cx(1,2)\n",
    "\n",
    "qc.draw(output='mpl')"
   ]
  },
  {
   "cell_type": "code",
   "execution_count": 21,
   "metadata": {
    "pycharm": {
     "name": "#%%\n"
    }
   },
   "outputs": [],
   "source": [
    "def randomized_circuit(q_input, circ_number, max_iter):\n",
    "    from qiskit.compiler import transpile\n",
    "\n",
    "    ## define easy and hard gates\n",
    "\n",
    "    easy_gate = ['h', 't', 's']\n",
    "    hard_gate = ['cx']\n",
    "    basis_gate = easy_gate + hard_gate\n",
    "\n",
    "    ## transpile the input gate to the equivalent gate with easy and hard gates basis\n",
    "\n",
    "    q_transform = transpile(q_input, basis_gates=basis_gate)\n",
    "\n",
    "    random_circuit_set = []\n",
    "\n",
    "    for circ_ind in np.arange(circ_number):\n",
    "        ## set easy_layer sets and hard_layer sets\n",
    "        easy_layer = []\n",
    "        hard_layer = []\n",
    "        easy_layer_comp=[]\n",
    "        hard_seeker=False\n",
    "        for gate in q_transform.data:\n",
    "            if gate[0].name in hard_gate:\n",
    "                hard_layer.append(gate)\n",
    "                hard_seeker=True\n",
    "                easy_layer.append(easy_layer_comp)\n",
    "                easy_layer_comp=[]\n",
    "            elif gate[0].name in easy_gate:\n",
    "                if hard_seeker:\n",
    "                    hard_seeker=False\n",
    "                    easy_layer_comp=[]\n",
    "                easy_layer_comp.append(gate)\n",
    "        easy_layer.append(easy_layer_comp)\n",
    "\n",
    "        def random_T(easygate,max_mul):\n",
    "            ## random한걸 h,s,t의 최적으로 바꾸는과정 필요..\n",
    "            #oper_q = QuantumRegister(1)\n",
    "            oper = QuantumCircuit(1,name='oper')\n",
    "            for ind in np.arange(max_mul):\n",
    "                rand_value = np.random.randint(4)\n",
    "                if rand_value == 0:\n",
    "                    oper.h(0)\n",
    "                elif rand_value == 1:\n",
    "                    oper.s(0)\n",
    "                elif rand_value == 2:\n",
    "                    oper.t(0)\n",
    "            return oper.to_instruction()\n",
    "\n",
    "        depth_easy = len(easy_layer)\n",
    "        depth_hard = len(hard_layer)\n",
    "        depth = depth_easy+depth_hard\n",
    "\n",
    "        T_set = []\n",
    "        T_set.append([])\n",
    "\n",
    "        for ind in np.arange(depth_hard):\n",
    "            T_comp = []\n",
    "            for i in np.arange(q_transform.num_qubits):\n",
    "                T = random_T(easy_gate,max_iter)\n",
    "                T_comp.append(T)\n",
    "            T_set.append(T_comp)\n",
    "\n",
    "        T_set.append([])\n",
    "        q_out = QuantumCircuit(q_transform.num_qubits)\n",
    "        for ind in np.arange(depth):\n",
    "            if ind % 2 == 0:\n",
    "                if ind != 0:\n",
    "                    q_out.append(hard_layer[ind//2-1][0].reverse_ops(),hard_layer[ind//2-1][1])\n",
    "                    for T_ind in np.arange(len(T_set[ind//2])):\n",
    "                        q_out.append(T_set[ind//2][T_ind].reverse_ops(),[T_ind])\n",
    "                    q_out.append(hard_layer[ind//2-1][0],hard_layer[ind//2-1][1])\n",
    "                for sub_ind in np.arange(len(easy_layer[ind//2])):\n",
    "                    q_out.append(easy_layer[ind//2][sub_ind][0],easy_layer[ind//2][sub_ind][1])\n",
    "                for T_ind in np.arange(len(T_set[ind//2+1])):\n",
    "                    q_out.append(T_set[ind//2+1][T_ind],[T_ind])\n",
    "                q_out.barrier()\n",
    "            else:\n",
    "                q_out.append(hard_layer[(ind-1)//2][0],hard_layer[(ind-1)//2][1])\n",
    "                q_out.barrier()\n",
    "        q_final = transpile(q_out, basis_gates=basis_gate, optimization_level=0)\n",
    "        random_circuit_set.append(q_final)\n",
    "\n",
    "    return random_circuit_set\n",
    "\n"
   ]
  },
  {
   "cell_type": "code",
   "execution_count": 131,
   "outputs": [],
   "source": [
    "def randomized_circuit(q_input, circ_number, max_iter):\n",
    "    from qiskit.compiler import transpile\n",
    "\n",
    "    ## define easy and hard gates\n",
    "\n",
    "    easy_gate = ['x', 'y', 'z', 's']\n",
    "    hard_gate = ['t', 'h', 'cz']\n",
    "    basis_gate = easy_gate + hard_gate\n",
    "\n",
    "    ## transpile the input gate to the equivalent gate with easy and hard gates basis\n",
    "\n",
    "    q_transform = transpile(q_input, basis_gates=basis_gate)\n",
    "\n",
    "    random_circuit_set = []\n",
    "\n",
    "    for circ_ind in np.arange(circ_number):\n",
    "        ## set easy_layer sets and hard_layer sets\n",
    "        easy_layer = []\n",
    "        hard_layer = []\n",
    "        easy_layer_comp=[]\n",
    "        hard_seeker=False\n",
    "        for gate in q_transform.data:\n",
    "            if gate[0].name in hard_gate:\n",
    "                hard_layer.append(gate)\n",
    "                hard_seeker=True\n",
    "                easy_layer.append(easy_layer_comp)\n",
    "                easy_layer_comp=[]\n",
    "            elif gate[0].name in easy_gate:\n",
    "                if hard_seeker:\n",
    "                    hard_seeker=False\n",
    "                    easy_layer_comp=[]\n",
    "                easy_layer_comp.append(gate)\n",
    "        easy_layer.append(easy_layer_comp)\n",
    "\n",
    "        def random_T(easygate, max_mul):\n",
    "            ## random한걸 h,s,t의 최적으로 바꾸는과정 필요..\n",
    "            #oper_q = QuantumRegister(1)\n",
    "            oper = QuantumCircuit(1,name='oper')\n",
    "            # for ind in np.arange(max_mul):\n",
    "            rand_value = np.random.randint(4)\n",
    "            if rand_value == 0:\n",
    "                oper.x(0)\n",
    "            elif rand_value == 1:\n",
    "                oper.y(0)\n",
    "            elif rand_value == 2:\n",
    "                oper.z(0)\n",
    "            return oper.to_instruction()\n",
    "\n",
    "        depth_easy = len(easy_layer)\n",
    "        depth_hard = len(hard_layer)\n",
    "        depth = depth_easy+depth_hard\n",
    "\n",
    "        T_set = []\n",
    "        T_set.append([])\n",
    "\n",
    "        for ind in np.arange(depth_hard):\n",
    "            T_comp = []\n",
    "            for i in np.arange(q_transform.num_qubits):\n",
    "                T = random_T(easy_gate,max_iter)\n",
    "                T_comp.append(T)\n",
    "            T_set.append(T_comp)\n",
    "\n",
    "        T_set.append([])\n",
    "        q_out = QuantumCircuit(q_transform.num_qubits)\n",
    "        for ind in np.arange(depth):\n",
    "            if ind % 2 == 0:\n",
    "                if ind != 0:\n",
    "                    q_out.append(hard_layer[ind//2-1][0].reverse_ops(),hard_layer[ind//2-1][1])\n",
    "                    for T_ind in np.arange(len(T_set[ind//2])):\n",
    "                        q_out.append(T_set[ind//2][T_ind].reverse_ops(),[T_ind])\n",
    "                    q_out.append(hard_layer[ind//2-1][0],hard_layer[ind//2-1][1])\n",
    "                for sub_ind in np.arange(len(easy_layer[ind//2])):\n",
    "                    q_out.append(easy_layer[ind//2][sub_ind][0],easy_layer[ind//2][sub_ind][1])\n",
    "                for T_ind in np.arange(len(T_set[ind//2+1])):\n",
    "                    q_out.append(T_set[ind//2+1][T_ind],[T_ind])\n",
    "                q_out.barrier()\n",
    "            else:\n",
    "                q_out.append(hard_layer[(ind-1)//2][0],hard_layer[(ind-1)//2][1])\n",
    "                q_out.barrier()\n",
    "        q_final = transpile(q_out, basis_gates=basis_gate + ['rz', 'ry', 'rx'], optimization_level=3)\n",
    "        random_circuit_set.append(q_final)\n",
    "\n",
    "    return random_circuit_set\n",
    "\n"
   ],
   "metadata": {
    "collapsed": false,
    "pycharm": {
     "name": "#%%\n"
    }
   }
  },
  {
   "cell_type": "code",
   "execution_count": 132,
   "metadata": {
    "pycharm": {
     "name": "#%%\n"
    }
   },
   "outputs": [],
   "source": [
    "a=randomized_circuit(qc,10,1)"
   ]
  },
  {
   "cell_type": "code",
   "execution_count": 133,
   "metadata": {
    "pycharm": {
     "name": "#%%\n"
    }
   },
   "outputs": [
    {
     "data": {
      "text/plain": "<Figure size 1591.6x445.48 with 1 Axes>",
      "image/png": "[encoded data removed]"
     },
     "execution_count": 133,
     "metadata": {},
     "output_type": "execute_result"
    }
   ],
   "source": [
    "a[0].draw(output='mpl')"
   ]
  },
  {
   "cell_type": "code",
   "execution_count": 42,
   "metadata": {
    "pycharm": {
     "name": "#%%\n"
    }
   },
   "outputs": [
    {
     "name": "stdout",
     "output_type": "stream",
     "text": [
      "DensityMatrix([[0.5+0.00000000e+00j, 0. +0.00000000e+00j],\n",
      "               [0. +0.00000000e+00j, 0.5+8.09608861e-35j]],\n",
      "              dims=(2,))\n"
     ]
    }
   ],
   "source": [
    "from qiskit_experiments.library import StateTomography\n",
    "from qiskit.quantum_info import DensityMatrix, state_fidelity, Statevector, partial_trace, purity\n",
    "from qiskit.visualization.utils import _bloch_multivector_data\n",
    "from qiskit.visualization.bloch import Bloch\n",
    "from matplotlib import pyplot as plt\n",
    "\n",
    "qc = QuantumCircuit(3)\n",
    "\n",
    "\n",
    "qc.draw('mpl')\n",
    "\n",
    "from qiskit.compiler import transpile\n",
    "\n",
    "# qc_opt = transpile(qc, basis_gates=['s', 't', 'h', 'rx', 'ry', 'rz', 'cx'], optimization_level=3)\n",
    "# qc_opt.draw('mpl')\n",
    "\n",
    "target_state = Statevector.from_instruction(qc)\n",
    "target_dm = partial_trace(target_state, [1, 2])\n",
    "print(target_dm)"
   ]
  }
 ],
 "metadata": {
  "kernelspec": {
   "display_name": "Python 3",
   "language": "python",
   "name": "python3"
  },
  "language_info": {
   "codemirror_mode": {
    "name": "ipython",
    "version": 3
   },
   "file_extension": ".py",
   "mimetype": "text/x-python",
   "name": "python",
   "nbconvert_exporter": "python",
   "pygments_lexer": "ipython3",
   "version": "3.8.3"
  }
 },
 "nbformat": 4,
 "nbformat_minor": 4
}