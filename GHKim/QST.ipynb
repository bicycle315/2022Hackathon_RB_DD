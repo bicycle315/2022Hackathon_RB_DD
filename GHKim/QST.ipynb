{
 "cells": [
  {
   "cell_type": "markdown",
   "id": "05bd6676",
   "metadata": {
    "pycharm": {
     "name": "#%% md\n"
    }
   },
   "source": [
    "# Benchmarking randomized circuits using Quantum state tomography"
   ]
  },
  {
   "cell_type": "code",
   "execution_count": 1,
   "outputs": [],
   "source": [
    "def benchmark_rc_circuit(original_circuit, randomized_circuits, measurement_qubits, backend, dpi=None):\n",
    "    from qiskit_experiments.library import StateTomography\n",
    "    from qiskit.quantum_info import DensityMatrix, state_fidelity, Statevector, partial_trace, purity\n",
    "    from qiskit.visualization.utils import _bloch_multivector_data\n",
    "    from qiskit.visualization.bloch import Bloch\n",
    "    from matplotlib import pyplot as plt\n",
    "\n",
    "    n = original_circuit.num_qubits\n",
    "    density_matrices = []\n",
    "\n",
    "    for circ in randomized_circuits:\n",
    "        qstexp = StateTomography(circ, measurement_qubits=measurement_qubits)\n",
    "        qstdata = qstexp.run(backend, shots=500).block_for_results()\n",
    "        density_matrices.append(qstdata.analysis_results('state').value)\n",
    "\n",
    "    bloch_data = [_bloch_multivector_data(density_matrix) for density_matrix in density_matrices]\n",
    "    average_dm = DensityMatrix(sum([dm.data for dm in density_matrices]) / len(density_matrices))\n",
    "\n",
    "    target_state = Statevector.from_instruction(original_circuit)\n",
    "    target_dm = partial_trace(target_state, [i for i in range(n) if i not in measurement_qubits])\n",
    "    fidelity_list = [state_fidelity(target_dm, dm) for dm in density_matrices]\n",
    "    purity_list = [purity(dm) for dm in density_matrices]\n",
    "    fidelity = state_fidelity(target_dm, average_dm)\n",
    "\n",
    "    average_vectors = _bloch_multivector_data(average_dm)\n",
    "    target_vectors = _bloch_multivector_data(target_dm)\n",
    "\n",
    "    # Source code taken from https://qiskit.org/documentation/_modules/qiskit/visualization/state_visualization.html#plot_bloch_multivector\n",
    "    num = len(bloch_data[0])\n",
    "    width, height = plt.figaspect(1 / num)\n",
    "    fig = plt.figure(figsize=(width, height), dpi=dpi)\n",
    "\n",
    "    ax_list = [fig.add_subplot(1, num, i + 1, projection=\"3d\") for i in range(num)]\n",
    "    for i in range(num):\n",
    "        B = Bloch(axes=ax_list[i])\n",
    "        B.vector_width = 3\n",
    "        B.vector_mutation = 5\n",
    "        B.point_marker = ['o']\n",
    "        B.point_size = [5]\n",
    "        B.point_color = ['y']\n",
    "        for j in range(len(randomized_circuits)):\n",
    "            B.add_points(bloch_data[j][i], 'm')\n",
    "        B.add_vectors(average_vectors[i])\n",
    "        B.add_vectors(target_vectors[i])\n",
    "        B.render()\n",
    "\n",
    "    print(f'The blue arrow corresponds to the ideal result.')\n",
    "    print(f'Fidelity of the red arrow: {fidelity}')\n",
    "    print(f'Fidelity of the points: {fidelity_list}')\n",
    "    print(f'Purities of the points: {purity_list}')\n",
    "\n",
    "    return fig"
   ],
   "metadata": {
    "collapsed": false,
    "pycharm": {
     "name": "#%%\n"
    }
   }
  },
  {
   "cell_type": "code",
   "execution_count": 64,
   "outputs": [],
   "source": [
    "def tvd_benchmark_rc_circuit(original_circuit, randomized_circuits, backend, shots_per_randomized_circuit = 500):\n",
    "    from qiskit import execute\n",
    "    from qiskit.quantum_info import Statevector\n",
    "\n",
    "    n_random_circs = len(randomized_circuits)\n",
    "    total_shots = n_random_circs * shots_per_randomized_circuit\n",
    "\n",
    "    state_vector = Statevector.from_instruction(original_circuit)\n",
    "    ideal_probabilities = state_vector.probabilities_dict()\n",
    "\n",
    "    original_circuit.measure_all()\n",
    "    bare_counts = execute(original_circuit, backend, shots=n_random_circs * shots_per_randomized_circuit).result().get_counts()\n",
    "    bare_counts = {key: value for key, value in sorted(bare_counts.items())}\n",
    "    original_circuit.remove_final_measurements()\n",
    "\n",
    "    rc_counts_list = []\n",
    "    for rc in randomized_circuits:\n",
    "        rc.measure_all()\n",
    "        rc_counts_list.append(execute(rc, backend, shots=shots_per_randomized_circuit).result().get_counts())\n",
    "        rc.remove_final_measurements()\n",
    "    keys = set().union(*rc_counts_list)\n",
    "    rc_counts = {k: sum([cnts.get(k, 0) for cnts in rc_counts_list]) for k in keys}\n",
    "    rc_counts = {key: value for key, value in sorted(rc_counts.items())}\n",
    "\n",
    "    tvd_bare = sum(0.5 * abs(ideal_probabilities.get(key, 0) - bare_counts.get(key, 0) / total_shots)\n",
    "                   for key in ideal_probabilities.keys() | bare_counts.keys())\n",
    "    tvd_random = sum(0.5 * abs(ideal_probabilities.get(key, 0) - rc_counts.get(key, 0) / total_shots)\n",
    "                     for key in ideal_probabilities.keys() | rc_counts.keys())\n",
    "\n",
    "    print(ideal_probabilities)\n",
    "    print(tvd_bare, bare_counts)\n",
    "    print(tvd_random, rc_counts)"
   ],
   "metadata": {
    "collapsed": false,
    "pycharm": {
     "name": "#%%\n"
    }
   }
  },
  {
   "cell_type": "code",
   "execution_count": 3,
   "outputs": [],
   "source": [
    "from qiskit.converters import circuit_to_dag\n",
    "from qiskit.transpiler import TransformationPass\n",
    "\n",
    "# Code taken from https://quantumcomputing.stackexchange.com/questions/22149/replace-gate-with-known-identity-in-quantum-circuit\n",
    "class RtoPauliTranslator(TransformationPass):\n",
    "    def run(self, dag):\n",
    "        \"\"\"Run the pass.\"\"\"\n",
    "\n",
    "        # iterate over all operations\n",
    "        for node in dag.op_nodes():\n",
    "\n",
    "            if node.op.name in [\"rx\", \"ry\", \"rz\"]:\n",
    "                # calculate the replacement\n",
    "                replacement = QuantumCircuit(1)\n",
    "                if node.op.name == \"rx\":\n",
    "                    replacement.x(0)\n",
    "                elif node.op.name == \"ry\":\n",
    "                    replacement.y(0)\n",
    "                else:\n",
    "                    replacement.z(0)\n",
    "\n",
    "                # replace the node with our new decomposition\n",
    "                dag.substitute_node_with_dag(node, circuit_to_dag(replacement))\n",
    "\n",
    "        return dag"
   ],
   "metadata": {
    "collapsed": false,
    "pycharm": {
     "name": "#%%\n"
    }
   }
  },
  {
   "cell_type": "code",
   "execution_count": 50,
   "outputs": [],
   "source": [
    "def randomized_circuit(q_input, circ_number, max_iter):\n",
    "    from qiskit.compiler import transpile\n",
    "    from qiskit import QuantumCircuit\n",
    "    import numpy as np\n",
    "\n",
    "    ## define easy and hard gates\n",
    "\n",
    "    easy_gate = ['x', 'y', 'z', 's']\n",
    "    hard_gate = ['t', 'h', 'cz']\n",
    "    basis_gate = easy_gate + hard_gate\n",
    "\n",
    "    ## transpile the input gate to the equivalent gate with easy and hard gates basis\n",
    "\n",
    "    q_transform = transpile(q_input, basis_gates=basis_gate)\n",
    "\n",
    "    random_circuit_set = []\n",
    "\n",
    "    for circ_ind in np.arange(circ_number):\n",
    "        ## set easy_layer sets and hard_layer sets\n",
    "        easy_layer = []\n",
    "        hard_layer = []\n",
    "        easy_layer_comp = []\n",
    "        hard_seeker = False\n",
    "        for gate in q_transform.data:\n",
    "            if gate[0].name in hard_gate:\n",
    "                hard_layer.append(gate)\n",
    "                hard_seeker=True\n",
    "                easy_layer.append(easy_layer_comp)\n",
    "                easy_layer_comp=[]\n",
    "            elif gate[0].name in easy_gate:\n",
    "                if hard_seeker:\n",
    "                    hard_seeker=False\n",
    "                    easy_layer_comp=[]\n",
    "                easy_layer_comp.append(gate)\n",
    "        easy_layer.append(easy_layer_comp)\n",
    "\n",
    "        def random_T():\n",
    "            oper = QuantumCircuit(1, name='oper')\n",
    "            rand_value = np.random.randint(4)\n",
    "            if rand_value == 0:\n",
    "                oper.x(0)\n",
    "            elif rand_value == 1:\n",
    "                oper.y(0)\n",
    "            elif rand_value == 2:\n",
    "                oper.z(0)\n",
    "            return oper.to_instruction()\n",
    "\n",
    "        depth_easy = len(easy_layer)\n",
    "        depth_hard = len(hard_layer)\n",
    "        depth = depth_easy+depth_hard\n",
    "\n",
    "        T_set = []\n",
    "        T_set.append([])\n",
    "        for _ in range(depth_hard):\n",
    "            T_comp = []\n",
    "            for _ in np.arange(q_transform.num_qubits):\n",
    "                T = random_T()\n",
    "                T_comp.append(T)\n",
    "            T_set.append(T_comp)\n",
    "        T_set.append([])\n",
    "\n",
    "        q_out = QuantumCircuit(q_transform.num_qubits)\n",
    "        for ind in range(depth):\n",
    "            if ind % 2 == 0:\n",
    "                if ind > 2:\n",
    "                    q_out.append(hard_layer[ind // 2 - 1][0].reverse_ops(), hard_layer[ind // 2 - 1][1])\n",
    "                    for T_ind in np.arange(len(T_set[ind // 2])):\n",
    "                        q_out.append(T_set[ind // 2][T_ind].reverse_ops(), [T_ind])\n",
    "                    q_out.append(hard_layer[ind // 2 - 1][0], hard_layer[ind // 2 - 1][1])\n",
    "                for sub_ind in np.arange(len(easy_layer[ind // 2])):\n",
    "                    q_out.append(easy_layer[ind // 2][sub_ind][0], easy_layer[ind // 2][sub_ind][1])\n",
    "                if ind != 0:\n",
    "                    for T_ind in np.arange(len(T_set[ind // 2 + 1])):\n",
    "                        q_out.append(T_set[ind // 2 + 1][T_ind], [T_ind])\n",
    "                q_out.barrier()\n",
    "            else:\n",
    "                q_out.append(hard_layer[(ind - 1) // 2][0], hard_layer[(ind - 1) // 2][1])\n",
    "                q_out.barrier()\n",
    "        q_final = transpile(q_out, basis_gates=basis_gate + ['rz', 'ry', 'rx'], optimization_level=3)\n",
    "        random_circuit_set.append(RtoPauliTranslator()(q_final))\n",
    "\n",
    "    return random_circuit_set"
   ],
   "metadata": {
    "collapsed": false,
    "pycharm": {
     "name": "#%%\n"
    }
   }
  },
  {
   "cell_type": "code",
   "execution_count": 70,
   "outputs": [
    {
     "data": {
      "text/plain": "<Figure size 387.597x204.68 with 1 Axes>",
      "image/png": "[encoded data removed]"
     },
     "execution_count": 70,
     "metadata": {},
     "output_type": "execute_result"
    }
   ],
   "source": [
    "# For simulation\n",
    "from qiskit.providers.aer import AerSimulator\n",
    "from qiskit import QuantumCircuit\n",
    "from qiskit.compiler import transpile\n",
    "\n",
    "target = QuantumCircuit(3)\n",
    "\n",
    "target.h(0)\n",
    "target.cx(0,1)\n",
    "target.cx(1,2)\n",
    "\n",
    "target = transpile(target, basis_gates=['h', 'cz', 'x', 'y', 'z', 't'])\n",
    "\n",
    "rc_circs = randomized_circuit(target, 100, 1)\n",
    "\n",
    "target.draw('mpl')"
   ],
   "metadata": {
    "collapsed": false,
    "pycharm": {
     "name": "#%%\n"
    }
   }
  },
  {
   "cell_type": "code",
   "execution_count": 71,
   "outputs": [
    {
     "data": {
      "text/plain": "<Figure size 1591.6x445.48 with 1 Axes>",
      "image/png": "[encoded data removed]"
     },
     "execution_count": 71,
     "metadata": {},
     "output_type": "execute_result"
    }
   ],
   "source": [
    "rc_circs[0].draw('mpl')"
   ],
   "metadata": {
    "collapsed": false,
    "pycharm": {
     "name": "#%%\n"
    }
   }
  },
  {
   "cell_type": "code",
   "execution_count": 77,
   "outputs": [
    {
     "name": "stdout",
     "output_type": "stream",
     "text": [
      "{'000': 0.4999999999999996, '111': 0.4999999999999996}\n",
      "0.02178299999999961 {'000': 489145, '001': 5472, '010': 1011, '011': 4366, '100': 4394, '101': 1056, '110': 5484, '111': 489072}\n",
      "0.022054999999999606 {'000': 487885, '001': 5250, '010': 1864, '011': 3904, '100': 3936, '101': 1765, '110': 5336, '111': 490060}\n"
     ]
    }
   ],
   "source": [
    "# Example error probabilities\n",
    "p_reset = 0.001\n",
    "p_meas = 0.001\n",
    "p_gate1 = 0.001\n",
    "\n",
    "from qiskit.providers.aer.noise import NoiseModel\n",
    "from qiskit.providers.aer.noise import pauli_error\n",
    "\n",
    "# QuantumError objects\n",
    "error_reset = pauli_error([('X', p_reset), ('I', 1 - p_reset)])\n",
    "error_meas = pauli_error([('X',p_meas), ('I', 1 - p_meas)])\n",
    "error_gate1 = pauli_error([('X',p_gate1), ('I', 1 - p_gate1)])\n",
    "error_gate2 = error_gate1.tensor(error_gate1)\n",
    "\n",
    "# Add errors to noise model\n",
    "noise_bit_flip = NoiseModel()\n",
    "noise_bit_flip.add_all_qubit_quantum_error(error_reset, \"reset\")\n",
    "noise_bit_flip.add_all_qubit_quantum_error(error_meas, \"measure\")\n",
    "noise_bit_flip.add_all_qubit_quantum_error(error_gate1, [\"u1\", \"u2\", \"u3\"])\n",
    "noise_bit_flip.add_all_qubit_quantum_error(error_gate2, [\"cx\"])\n",
    "\n",
    "backend = AerSimulator(noise_model=noise_bit_flip)\n",
    "\n",
    "tvd_benchmark_rc_circuit(rc_circs[0], rc_circs, backend=backend, shots_per_randomized_circuit=10000)\n",
    "# fig = benchmark_rc_circuit(target, rc_circs, measurement_qubits=[0, 1, 2], backend=backend, dpi=200)"
   ],
   "metadata": {
    "collapsed": false,
    "pycharm": {
     "name": "#%%\n"
    }
   }
  }
 ],
 "metadata": {
  "kernelspec": {
   "display_name": "Python 3 (ipykernel)",
   "language": "python",
   "name": "python3"
  },
  "language_info": {
   "codemirror_mode": {
    "name": "ipython",
    "version": 3
   },
   "file_extension": ".py",
   "mimetype": "text/x-python",
   "name": "python",
   "nbconvert_exporter": "python",
   "pygments_lexer": "ipython3",
   "version": "3.8.13"
  },
  "varInspector": {
   "cols": {
    "lenName": 16,
    "lenType": 16,
    "lenVar": 40
   },
   "kernels_config": {
    "python": {
     "delete_cmd_postfix": "",
     "delete_cmd_prefix": "del ",
     "library": "var_list.py",
     "varRefreshCmd": "print(var_dic_list())"
    },
    "r": {
     "delete_cmd_postfix": ") ",
     "delete_cmd_prefix": "rm(",
     "library": "var_list.r",
     "varRefreshCmd": "cat(var_dic_list()) "
    }
   },
   "types_to_exclude": [
    "module",
    "function",
    "builtin_function_or_method",
    "instance",
    "_Feature"
   ],
   "window_display": false
  }
 },
 "nbformat": 4,
 "nbformat_minor": 5
}