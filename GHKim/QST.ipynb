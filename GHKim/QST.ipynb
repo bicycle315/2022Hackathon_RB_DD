{
 "cells": [
  {
   "cell_type": "markdown",
   "metadata": {
    "pycharm": {
     "name": "#%% md\n"
    }
   },
   "source": [
    "# Benchmarking randomized circuits using Quantum state tomography\n",
    "\n",
    "Easy gate: Paulis\n",
    "Hard gate: H, CZ\n",
    "Twiling: Paulis"
   ]
  },
  {
   "cell_type": "code",
   "execution_count": 1,
   "metadata": {
    "pycharm": {
     "name": "#%%\n"
    }
   },
   "outputs": [],
   "source": [
    "from qiskit.converters import circuit_to_dag\n",
    "from qiskit.transpiler import TransformationPass\n",
    "from qiskit.extensions import UnitaryGate\n",
    "from qiskit.circuit.library import IGate, HGate\n",
    "import numpy as np\n",
    "\n",
    "# Code taken from https://quantumcomputing.stackexchange.com/questions/22149/replace-gate-with-known-identity-in-quantum-circuit\n",
    "class CZOverrotation(TransformationPass):\n",
    "    def run(self, dag):\n",
    "        \"\"\"Run the pass.\"\"\"\n",
    "\n",
    "        # iterate over all operations\n",
    "        for node in dag.op_nodes():\n",
    "            if node.op.name in [\"cx\"]:\n",
    "                # calculate the replacement\n",
    "                replacement = QuantumCircuit(2)\n",
    "                angle = np.random.random() * 1.0\n",
    "                replacement.cp(np.pi + angle, 0, 1)\n",
    "            elif node.op.name in [\"h\"]:\n",
    "                replacement = QuantumCircuit(1)\n",
    "                angle = 0.1\n",
    "                random_angle = np.pi + np.random.random() * angle - angle/2\n",
    "                ugate = UnitaryGate(np.cos(random_angle/2) * IGate().to_matrix() - 1.0j * np.sin(random_angle/2) * HGate().to_matrix())\n",
    "                replacement.unitary(ugate, 0)\n",
    "\n",
    "                # replace the node with our new decomposition\n",
    "                dag.substitute_node_with_dag(node, circuit_to_dag(replacement))\n",
    "\n",
    "        return dag"
   ]
  },
  {
   "cell_type": "code",
   "execution_count": 2,
   "metadata": {
    "pycharm": {
     "name": "#%%\n"
    }
   },
   "outputs": [],
   "source": [
    "def benchmark_rc_circuit(original_circuit, randomized_circuits, measurement_qubits, backend, dpi=None):\n",
    "    from qiskit_experiments.library import StateTomography\n",
    "    from qiskit.quantum_info import DensityMatrix, state_fidelity, Statevector, partial_trace, purity\n",
    "    from qiskit.visualization.utils import _bloch_multivector_data\n",
    "    from qiskit.visualization.bloch import Bloch\n",
    "    from matplotlib import pyplot as plt\n",
    "\n",
    "    n = original_circuit.num_qubits\n",
    "    density_matrices = []\n",
    "\n",
    "    for circ in randomized_circuits:\n",
    "        qstexp = StateTomography(circ, measurement_qubits=measurement_qubits)\n",
    "        qstdata = qstexp.run(backend, shots=500).block_for_results()\n",
    "        density_matrices.append(qstdata.analysis_results('state').value)\n",
    "\n",
    "    bloch_data = [_bloch_multivector_data(density_matrix) for density_matrix in density_matrices]\n",
    "    average_dm = DensityMatrix(sum([dm.data for dm in density_matrices]) / len(density_matrices))\n",
    "\n",
    "    target_state = Statevector.from_instruction(original_circuit)\n",
    "    target_dm = partial_trace(target_state, [i for i in range(n) if i not in measurement_qubits])\n",
    "    fidelity_list = [state_fidelity(target_dm, dm) for dm in density_matrices]\n",
    "    purity_list = [purity(dm) for dm in density_matrices]\n",
    "    fidelity = state_fidelity(target_dm, average_dm)\n",
    "\n",
    "    average_vectors = _bloch_multivector_data(average_dm)\n",
    "    target_vectors = _bloch_multivector_data(target_dm)\n",
    "\n",
    "    # Source code taken from https://qiskit.org/documentation/_modules/qiskit/visualization/state_visualization.html#plot_bloch_multivector\n",
    "    num = len(bloch_data[0])\n",
    "    width, height = plt.figaspect(1 / num)\n",
    "    fig = plt.figure(figsize=(width, height), dpi=dpi)\n",
    "\n",
    "    ax_list = [fig.add_subplot(1, num, i + 1, projection=\"3d\") for i in range(num)]\n",
    "    for i in range(num):\n",
    "        B = Bloch(axes=ax_list[i])\n",
    "        B.vector_width = 3\n",
    "        B.vector_mutation = 5\n",
    "        B.point_marker = ['o']\n",
    "        B.point_size = [5]\n",
    "        B.point_color = ['y']\n",
    "        for j in range(len(randomized_circuits)):\n",
    "            B.add_points(bloch_data[j][i], 'm')\n",
    "        B.add_vectors(average_vectors[i])\n",
    "        B.add_vectors(target_vectors[i])\n",
    "        B.render()\n",
    "\n",
    "    print(f'The blue arrow corresponds to the ideal result.')\n",
    "    print(f'Fidelity of the red arrow: {fidelity}')\n",
    "    print(f'Fidelity of the points: {fidelity_list}')\n",
    "    print(f'Purities of the points: {purity_list}')\n",
    "\n",
    "    return fig"
   ]
  },
  {
   "cell_type": "code",
   "execution_count": 3,
   "metadata": {
    "pycharm": {
     "name": "#%%\n"
    }
   },
   "outputs": [],
   "source": [
    "def tvd_benchmark_rc_circuit(original_circuit, randomized_circuits, backend, shots_per_randomized_circuit = 500):\n",
    "    from qiskit import execute\n",
    "    from qiskit.quantum_info import Statevector\n",
    "\n",
    "    n_random_circs = len(randomized_circuits)\n",
    "    total_shots = n_random_circs * shots_per_randomized_circuit\n",
    "\n",
    "    state_vector = Statevector.from_instruction(original_circuit)\n",
    "    ideal_probabilities = state_vector.probabilities_dict()\n",
    "\n",
    "    original_circuit_ = original_circuit.copy()\n",
    "    #original_circuit_ = CZOverrotation()(original_circuit_)\n",
    "    original_circuit_.measure_all()\n",
    "    bare_counts = execute(original_circuit_, backend, shots=n_random_circs * shots_per_randomized_circuit).result().get_counts()\n",
    "    bare_counts = {key: value for key, value in sorted(bare_counts.items())}\n",
    "\n",
    "    rc_counts_list = []\n",
    "    for rc in randomized_circuits:\n",
    "        rc_ = rc.copy()\n",
    "        #rc_ = CZOverrotation()(rc_)\n",
    "        rc_.measure_all()\n",
    "        rc_counts_list.append(execute(rc_, backend, shots=shots_per_randomized_circuit).result().get_counts())\n",
    "    keys = set().union(*rc_counts_list)\n",
    "    rc_counts = {k: sum([cnts.get(k, 0) for cnts in rc_counts_list]) for k in keys}\n",
    "    rc_counts = {key: value for key, value in sorted(rc_counts.items())}\n",
    "\n",
    "    tvd_bare = sum(0.5 * abs(ideal_probabilities.get(key, 0) - bare_counts.get(key, 0) / total_shots)\n",
    "                   for key in ideal_probabilities.keys() | bare_counts.keys())\n",
    "    tvd_random = sum(0.5 * abs(ideal_probabilities.get(key, 0) - rc_counts.get(key, 0) / total_shots)\n",
    "                     for key in ideal_probabilities.keys() | rc_counts.keys())\n",
    "    \n",
    "    tvd_random_set = [abs(ideal_probabilities.get(key, 0) - rc_counts.get(key, 0) / total_shots)\n",
    "                     for key in ideal_probabilities.keys() | rc_counts.keys()]\n",
    "    #print(ideal_probabilities)\n",
    "    #print('Original TVD: ', tvd_bare, bare_counts)\n",
    "    #print('Randomized TVD: ', tvd_random, rc_counts)\n",
    "    \n",
    "    return [tvd_random, tvd_random_set]"
   ]
  },
  {
   "cell_type": "code",
   "execution_count": null,
   "metadata": {
    "pycharm": {
     "name": "#%%\n"
    }
   },
   "outputs": [],
   "source": []
  },
  {
   "cell_type": "code",
   "execution_count": 4,
   "metadata": {
    "pycharm": {
     "name": "#%%\n"
    }
   },
   "outputs": [],
   "source": [
    "def randomized_circuit(q_input, circ_number, max_iter):\n",
    "    from qiskit.compiler import transpile\n",
    "    from qiskit import QuantumCircuit\n",
    "    from qiskit.circuit.library import XGate, YGate, ZGate, IGate\n",
    "    import numpy as np\n",
    "\n",
    "    ## define easy and hard gates\n",
    "\n",
    "    easy_gate = ['id', 'x', 'y', 'z']\n",
    "    hard_gate = ['cz', 't', 'h', 'cx']\n",
    "    basis_gate = easy_gate + hard_gate + ['rz']\n",
    "\n",
    "    ## transpile the input gate to the equivalent gate with easy and hard gates basis\n",
    "\n",
    "    q_transform = q_input\n",
    "    # q_transform = transpile(q_input, basis_gates=basis_gate)\n",
    "\n",
    "    random_circuit_set = []\n",
    "\n",
    "    ## set easy_layer sets and hard_layer sets\n",
    "    easy_layer = []\n",
    "    hard_layer = []\n",
    "    easy_layer_comp = []\n",
    "    hard_seeker = False\n",
    "    for gate in q_transform.data:\n",
    "        if gate[0].name in hard_gate:\n",
    "            hard_layer.append(gate)\n",
    "            hard_seeker=True\n",
    "            easy_layer.append(easy_layer_comp)\n",
    "            easy_layer_comp=[]\n",
    "        elif gate[0].name in easy_gate:\n",
    "            if hard_seeker:\n",
    "                hard_seeker=False\n",
    "                easy_layer_comp=[]\n",
    "            easy_layer_comp.append(gate)\n",
    "    easy_layer.append(easy_layer_comp)\n",
    "\n",
    "    def random_T():\n",
    "        rand_value = np.random.randint(4)\n",
    "        if rand_value == 0:\n",
    "            return XGate()\n",
    "        elif rand_value == 1:\n",
    "            return YGate()\n",
    "        elif rand_value == 2:\n",
    "            return ZGate()\n",
    "        else:\n",
    "            return IGate()\n",
    "\n",
    "    depth_easy = len(easy_layer)\n",
    "    depth_hard = len(hard_layer)\n",
    "    depth = depth_easy + depth_hard\n",
    "\n",
    "    for _ in np.arange(circ_number):\n",
    "        T_set = []\n",
    "        for _ in range(depth_hard):\n",
    "            T_comp = []\n",
    "            for _ in np.arange(q_transform.num_qubits):\n",
    "                T = random_T()\n",
    "                T_comp.append(T)\n",
    "            T_set.append(T_comp)\n",
    "\n",
    "        q_out = QuantumCircuit(q_transform.num_qubits)\n",
    "        for ind in range(depth//2 + 1):\n",
    "            # Hard layer\n",
    "            if ind > 0:\n",
    "                q_out.barrier()\n",
    "                q_out.compose(hard_layer[ind - 1][0], hard_layer[ind - 1][1], inplace=True)\n",
    "                q_out.barrier()\n",
    "            # Tc + easy + T layer (No Tc at the first layer, no T at the final layer)\n",
    "            ## Tc\n",
    "            q_temp = QuantumCircuit(q_transform.num_qubits)\n",
    "            if ind > 0:\n",
    "                q_temp.compose(hard_layer[ind - 1][0].reverse_ops(), hard_layer[ind - 1][1], inplace=True)\n",
    "                for T_ind in np.arange(len(T_set[ind - 1])):\n",
    "                    q_temp.compose(T_set[ind - 1][T_ind].reverse_ops(), [T_ind], inplace=True)\n",
    "                q_temp.compose(hard_layer[ind - 1][0], hard_layer[ind - 1][1], inplace=True)\n",
    "            ## easy\n",
    "            for sub_ind in np.arange(len(easy_layer[ind])):\n",
    "                q_temp.compose(easy_layer[ind][sub_ind][0], easy_layer[ind][sub_ind][1], inplace=True)\n",
    "            ## T\n",
    "            if (ind < depth//2):\n",
    "                for T_ind in np.arange(len(T_set[ind])):\n",
    "                    q_temp.compose(T_set[ind][T_ind], [T_ind], inplace=True)\n",
    "            q_temp = transpile(q_temp, basis_gates=['id', 'u3', 'cz'], optimization_level=3)\n",
    "            q_temp = transpile(q_temp, basis_gates=['rx', 'rz', 'ry', 'cz', 'id'], optimization_level=3)\n",
    "\n",
    "            q_out.compose(q_temp, range(q_transform.num_qubits), inplace=True)\n",
    "\n",
    "        # q_final = transpile(q_out, basis_gates=['id', 'x', 'y', 'z', 'rz', 't', 'h', 'cz'], optimization_level=0)\n",
    "\n",
    "        random_circuit_set.append(q_out)\n",
    "\n",
    "    return random_circuit_set"
   ]
  },
  {
   "cell_type": "code",
   "execution_count": 5,
   "metadata": {
    "pycharm": {
     "name": "#%%\n"
    }
   },
   "outputs": [
    {
     "name": "stdout",
     "output_type": "stream",
     "text": [
      "Statevector([ 0.35355339+0.j, -0.35355339+0.j, -0.35355339+0.j,\n",
      "             -0.35355339+0.j,  0.35355339+0.j, -0.35355339+0.j,\n",
      "             -0.35355339+0.j, -0.35355339+0.j],\n",
      "            dims=(2, 2, 2))\n"
     ]
    },
    {
     "data": {
      "image/png": "[encoded data removed]",
      "text/plain": [
       "<Figure size 1591.6x686.28 with 1 Axes>"
      ]
     },
     "execution_count": 5,
     "metadata": {},
     "output_type": "execute_result"
    }
   ],
   "source": [
    "# For simulation\n",
    "from qiskit.providers.aer import AerSimulator\n",
    "from qiskit import QuantumCircuit\n",
    "from qiskit.quantum_info import Statevector\n",
    "from qiskit.compiler import transpile\n",
    "from qiskit.circuit.library import QFT\n",
    "\n",
    "target = QuantumCircuit(3)\n",
    "target.x(0)\n",
    "target.y(1)\n",
    "target.z(2)\n",
    "target.barrier()\n",
    "target.cx(1, 2)\n",
    "target.barrier()\n",
    "target.y(0)\n",
    "target.z(1)\n",
    "target.x(2)\n",
    "target.barrier()\n",
    "target.cx(2, 0)\n",
    "target.barrier()\n",
    "target.z(0)\n",
    "target.barrier()\n",
    "target.h(0)\n",
    "target.barrier()\n",
    "target.x(1)\n",
    "target.barrier()\n",
    "target.h(1)\n",
    "target.barrier()\n",
    "target.y(2)\n",
    "target.barrier()\n",
    "target.h(1)\n",
    "target.barrier()\n",
    "target.z(0)\n",
    "target.x(1)\n",
    "target.barrier()\n",
    "target.h(2)\n",
    "target.barrier()\n",
    "target.y(2)\n",
    "target.barrier()\n",
    "target.cx(0, 1)\n",
    "target.barrier()\n",
    "target.x(0)\n",
    "target.z(1)\n",
    "target.barrier()\n",
    "target.h(0)\n",
    "target.barrier()\n",
    "target.y(2)\n",
    "target.x(0)\n",
    "target.y(1)\n",
    "target.z(2)\n",
    "target.barrier()\n",
    "target.cx(1, 2)\n",
    "target.x(0)\n",
    "target.y(1)\n",
    "target.z(2)\n",
    "target.barrier()\n",
    "target.cx(1, 2)\n",
    "target.x(0)\n",
    "target.y(1)\n",
    "target.z(2)\n",
    "target.barrier()\n",
    "target.cx(1, 2)\n",
    "target.x(0)\n",
    "target.y(1)\n",
    "target.z(2)\n",
    "target.barrier()\n",
    "target.cx(1, 2)\n",
    "target.x(0)\n",
    "target.y(1)\n",
    "target.z(2)\n",
    "target.barrier()\n",
    "target.cx(1, 2)\n",
    "target.x(0)\n",
    "target.y(1)\n",
    "target.z(2)\n",
    "target.barrier()\n",
    "target.cx(1, 2)\n",
    "target.x(0)\n",
    "target.y(1)\n",
    "target.z(2)\n",
    "target.barrier()\n",
    "target.cx(1, 2)\n",
    "\n",
    "print(Statevector.from_instruction(target))\n",
    "\n",
    "# target = transpile(target, basis_gates=['id', 'x', 'y', 'z', 'cz', 'h', 't', 'rz'], optimization_level=0)\n",
    "\n",
    "rc_circs = randomized_circuit(target, 10, 1)\n",
    "\n",
    "target.draw('mpl')"
   ]
  },
  {
   "cell_type": "code",
   "execution_count": 6,
   "metadata": {
    "pycharm": {
     "name": "#%%\n"
    }
   },
   "outputs": [
    {
     "data": {
      "image/png": "[encoded data removed]",
      "text/plain": [
       "<Figure size 1591.6x686.28 with 1 Axes>"
      ]
     },
     "execution_count": 6,
     "metadata": {},
     "output_type": "execute_result"
    }
   ],
   "source": [
    "rc_circs[3].draw('mpl')"
   ]
  },
  {
   "cell_type": "code",
   "execution_count": null,
   "metadata": {
    "pycharm": {
     "name": "#%%\n"
    }
   },
   "outputs": [],
   "source": []
  },
  {
   "cell_type": "code",
   "execution_count": 7,
   "metadata": {
    "pycharm": {
     "name": "#%%\n"
    }
   },
   "outputs": [
    {
     "data": {
      "text/plain": [
       "[0.30000000000000004,\n",
       " [0.0740999999999999,\n",
       "  0.1232000000000001,\n",
       "  0.0770999999999999,\n",
       "  0.026900000000000104,\n",
       "  0.07289999999999991,\n",
       "  0.023100000000000107,\n",
       "  0.07589999999999991,\n",
       "  0.12680000000000013]]"
      ]
     },
     "execution_count": 7,
     "metadata": {},
     "output_type": "execute_result"
    }
   ],
   "source": [
    "from qiskit.providers.aer.noise import NoiseModel\n",
    "from qiskit.providers.aer.noise import depolarizing_error, coherent_unitary_error\n",
    "from qiskit.circuit.library import RZGate, RXGate, CXGate\n",
    "\n",
    "# QuantumError objects\n",
    "prob = 0.01\n",
    "angle = 0.1\n",
    "coherent_err = coherent_unitary_error(CXGate(angle))\n",
    "\n",
    "# Add errors to noise model\n",
    "error_model = NoiseModel(basis_gates=['id', 'x', 'y', 'z', 'rx', 'ry', 'rz', 'cz'])\n",
    "error_model.add_all_qubit_quantum_error(coherent_err, ['cx', 'cz', 'cy'])\n",
    "\n",
    "backend = AerSimulator(noise_model=error_model)\n",
    "# backend = FakeParis()\n",
    "\n",
    "tvd_benchmark_rc_circuit(target, rc_circs, backend=backend, shots_per_randomized_circuit=1000)\n",
    "# fig = benchmark_rc_circuit(target, rc_circs, measurement_qubits=[0, 1, 2], backend=backend, dpi=200)"
   ]
  },
  {
   "cell_type": "code",
   "execution_count": 11,
   "metadata": {},
   "outputs": [],
   "source": [
    "def tvd_exponential_violin(circuit,n_series,backend,iter_num):\n",
    "    random_circ_number = []\n",
    "    tvd_mean_set = []\n",
    "    tvd_all_set = []\n",
    "    for iteration in n_series:\n",
    "        random_circ_number.append(iteration+1)\n",
    "        temp_tvd = []\n",
    "        for ind in np.arange(iter_num):\n",
    "            temp_rc_circuit = randomized_circuit(circuit, iteration+1, 1)\n",
    "            tvd_value = tvd_benchmark_rc_circuit(circuit, temp_rc_circuit, backend=backend, shots_per_randomized_circuit=1000)\n",
    "            temp_tvd.append(tvd_value[0])\n",
    "        tvd_all_set.append(temp_tvd)\n",
    "        tvd_mean_set.append(np.mean(tvd_all_set[-1]))\n",
    "    return [random_circ_number,tvd_mean_set,tvd_all_set]"
   ]
  },
  {
   "cell_type": "code",
   "execution_count": 15,
   "metadata": {},
   "outputs": [
    {
     "data": {
      "text/plain": [
       "{'bodies': [<matplotlib.collections.PolyCollection at 0x11dd2be0>,\n",
       "  <matplotlib.collections.PolyCollection at 0x11dd2898>,\n",
       "  <matplotlib.collections.PolyCollection at 0x288ef790>,\n",
       "  <matplotlib.collections.PolyCollection at 0x26eaa718>,\n",
       "  <matplotlib.collections.PolyCollection at 0x26e91be0>,\n",
       "  <matplotlib.collections.PolyCollection at 0x288a5b98>,\n",
       "  <matplotlib.collections.PolyCollection at 0x288a5250>,\n",
       "  <matplotlib.collections.PolyCollection at 0x288a5b20>,\n",
       "  <matplotlib.collections.PolyCollection at 0x288a5670>,\n",
       "  <matplotlib.collections.PolyCollection at 0x14d3f10>,\n",
       "  <matplotlib.collections.PolyCollection at 0x14d3df0>,\n",
       "  <matplotlib.collections.PolyCollection at 0x26e4c190>],\n",
       " 'cmeans': <matplotlib.collections.LineCollection at 0x11dd2a00>,\n",
       " 'cmaxes': <matplotlib.collections.LineCollection at 0x288a7880>,\n",
       " 'cmins': <matplotlib.collections.LineCollection at 0x26ebbfa0>,\n",
       " 'cbars': <matplotlib.collections.LineCollection at 0x26e3fc70>}"
      ]
     },
     "execution_count": 15,
     "metadata": {},
     "output_type": "execute_result"
    },
    {
     "data": {
      "image/png": "[encoded data removed]",
      "text/plain": [
       "<Figure size 432x288 with 1 Axes>"
      ]
     },
     "metadata": {
      "needs_background": "light"
     },
     "output_type": "display_data"
    }
   ],
   "source": [
    "import matplotlib.pyplot as plt\n",
    "result = tvd_exponential_violin(target,[1,2,3,4,5,6,7,8,9,10,20,40],backend,20)\n",
    "plt.violinplot(result[2], result[0], points=20, widths=1,showmeans=True)"
   ]
  },
  {
   "cell_type": "code",
   "execution_count": 16,
   "metadata": {},
   "outputs": [
    {
     "data": {
      "image/png": "[encoded data removed]",
      "text/plain": [
       "<Figure size 432x288 with 1 Axes>"
      ]
     },
     "metadata": {
      "needs_background": "light"
     },
     "output_type": "display_data"
    }
   ],
   "source": [
    "def objective(x, a, b, c):\n",
    "\treturn a * np.exp(-c*x) + b\n",
    "from scipy.optimize import curve_fit\n",
    "popt, _ = curve_fit(objective, result[0], result[1])\n",
    "a, b, c = popt\n",
    "y_line = [objective(res, a, b, c) for res in result[0]] \n",
    "plt.plot(result[0], result[1], 'o', color='blue')\n",
    "plt.plot(result[0], y_line, '--', color='red')\n",
    "plt.show()\n"
   ]
  },
  {
   "cell_type": "code",
   "execution_count": 22,
   "metadata": {},
   "outputs": [],
   "source": [
    "residuals = np.array(result[1])- np.array(y_line)\n",
    "ss_res = np.sum(residuals**2)\n",
    "ss_tot = np.sum((np.array(result[1])-np.array(np.mean(result[1]))**2))\n",
    "r_squared = 1 - (ss_res / ss_tot)"
   ]
  },
  {
   "cell_type": "code",
   "execution_count": 23,
   "metadata": {},
   "outputs": [
    {
     "name": "stdout",
     "output_type": "stream",
     "text": [
      "0.9968117286486755\n"
     ]
    }
   ],
   "source": [
    "print(r_squared)"
   ]
  },
  {
   "cell_type": "code",
   "execution_count": null,
   "metadata": {},
   "outputs": [],
   "source": []
  }
 ],
 "metadata": {
  "kernelspec": {
   "display_name": "Python 3",
   "language": "python",
   "name": "python3"
  },
  "language_info": {
   "codemirror_mode": {
    "name": "ipython",
    "version": 3
   },
   "file_extension": ".py",
   "mimetype": "text/x-python",
   "name": "python",
   "nbconvert_exporter": "python",
   "pygments_lexer": "ipython3",
   "version": "3.8.3"
  },
  "varInspector": {
   "cols": {
    "lenName": 16,
    "lenType": 16,
    "lenVar": 40
   },
   "kernels_config": {
    "python": {
     "delete_cmd_postfix": "",
     "delete_cmd_prefix": "del ",
     "library": "var_list.py",
     "varRefreshCmd": "print(var_dic_list())"
    },
    "r": {
     "delete_cmd_postfix": ") ",
     "delete_cmd_prefix": "rm(",
     "library": "var_list.r",
     "varRefreshCmd": "cat(var_dic_list()) "
    }
   },
   "types_to_exclude": [
    "module",
    "function",
    "builtin_function_or_method",
    "instance",
    "_Feature"
   ],
   "window_display": false
  }
 },
 "nbformat": 4,
 "nbformat_minor": 5
}