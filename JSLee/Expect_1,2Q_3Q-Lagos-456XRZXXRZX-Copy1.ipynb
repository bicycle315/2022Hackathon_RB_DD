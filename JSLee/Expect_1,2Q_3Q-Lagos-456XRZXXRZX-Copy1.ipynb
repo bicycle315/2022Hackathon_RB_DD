{
 "cells": [
  {
   "cell_type": "code",
   "execution_count": 1,
   "metadata": {},
   "outputs": [],
   "source": [
    "import numpy as np\n",
    "\n",
    "# Importing standard Qiskit libraries\n",
    "from qiskit import QuantumCircuit, transpile, Aer, IBMQ\n",
    "from qiskit.tools.jupyter import *\n",
    "from qiskit.visualization import timeline_drawer\n",
    "from datetime import datetime\n",
    "import time\n",
    "# transpile\n",
    "from qiskit.transpiler import InstructionDurations, PassManager\n",
    "from qiskit.transpiler.passes import DynamicalDecoupling, Unroller, ALAPSchedule, LookaheadSwap, BasicSwap\n",
    "#RB\n",
    "import numpy as np\n",
    "from qiskit_experiments.library import randomized_benchmarking as rb\n",
    "from qiskit_experiments.framework import ParallelExperiment, BatchExperiment\n",
    "from qiskit_experiments.library.randomized_benchmarking import RBUtils\n",
    "from qiskit_experiments.library.randomized_benchmarking.rb_experiment_dd import StandardRB_dd\n",
    "from qiskit_experiments.library import StandardRB, InterleavedRB\n",
    "import qiskit.circuit.library as circuits\n",
    "from qiskit.circuit import Delay, Instruction\n",
    "from qiskit.circuit.library.standard_gates import RXXGate, RZZGate, RZXGate, XGate, SXGate, IGate, CCXGate, SGate, CXGate,RZGate\n",
    "from qiskit_experiments.library.randomized_benchmarking.double_interleaved_rb_experiment import DoubleInterleavedRB\n"
   ]
  },
  {
   "cell_type": "code",
   "execution_count": 2,
   "metadata": {},
   "outputs": [],
   "source": [
    "%matplotlib inline"
   ]
  },
  {
   "cell_type": "code",
   "execution_count": 3,
   "metadata": {},
   "outputs": [
    {
     "data": {
      "text/plain": [
       "[<AccountProvider for IBMQ(hub='ibm-q', group='open', project='main')>,\n",
       " <AccountProvider for IBMQ(hub='ibm-q-skku', group='snu', project='snu-students')>]"
      ]
     },
     "execution_count": 3,
     "metadata": {},
     "output_type": "execute_result"
    }
   ],
   "source": [
    "\n",
    "#IBMQ.save_account('befca44219528a564b7f4d3f53707de8985c22fb7b8c969ef2728c830de7c612716e76f41fbc0a52d65f63e71a3a2437948befd3042b1ffab4ced07d573192f1')\n",
    "IBMQ.load_account()\n",
    "IBMQ.providers()"
   ]
  },
  {
   "cell_type": "code",
   "execution_count": 4,
   "metadata": {},
   "outputs": [
    {
     "name": "stdout",
     "output_type": "stream",
     "text": [
      "ibm_lagos is on version 1.0.28. It has 7 qubits. It supports OpenPulse programs. The basis gates supported on this device are ['id', 'rz', 'sx', 'x', 'cx', 'reset'].[[0, 1], [1, 0], [1, 2], [1, 3], [2, 1], [3, 1], [3, 5], [4, 5], [5, 3], [5, 4], [5, 6], [6, 5]] are the list of connected qubits.ibm_lagos can handle maximum 300 circuits(experiments) per job.Maximum number of active job i can have on it (cocurrent jobs that a user is able to submit to a backend) is None.\n"
     ]
    }
   ],
   "source": [
    "provider=IBMQ.providers()[1]\n",
    "#provider = IBMQ.get_provider(hub='ibm-q-community', group='qamp', project='spring-22-17')\n",
    "#backend=provider.backend.ibmq_lima\n",
    "backend = provider.get_backend('ibm_lagos')\n",
    "\n",
    "# get the basic feautures including qubit number of the backend.\n",
    "config = backend.configuration()\n",
    "backend_job_limit=backend.job_limit()\n",
    "\n",
    "print(\"{0} is on version {1}. It has {2} qubit{3}. It \"\n",
    "      \"{4} OpenPulse programs. The basis gates supported on this device are {5}.{6} are the list of connected qubits.\"\n",
    "      \"{7} can handle maximum {8} circuits(experiments) per job.\"\n",
    "      \"Maximum number of active job i can have on it (cocurrent jobs that a user is able to submit to a backend) is {9}.\"\n",
    "      \"\".format(config.backend_name,\n",
    "                config.backend_version,\n",
    "                config.n_qubits,\n",
    "                '' if config.n_qubits == 1 else 's',\n",
    "                'supports' if config.open_pulse else 'does not support',\n",
    "                config.basis_gates,\n",
    "                config.coupling_map,\n",
    "               config.backend_name,\n",
    "               config.max_experiments,\n",
    "               backend_job_limit.maximum_jobs))"
   ]
  },
  {
   "cell_type": "code",
   "execution_count": null,
   "metadata": {},
   "outputs": [
    {
     "name": "stdout",
     "output_type": "stream",
     "text": [
      "ibm_lagos\n",
      "(4, 5)\n"
     ]
    }
   ],
   "source": [
    "lengths_2_qubit = np.arange(1, 200, 30)\n",
    "lengths_1_qubit=np.arange(1,1200,120)\n",
    "num_samples = 3\n",
    "seed = 1010\n",
    "qubits = (4,5)\n",
    "print(backend)\n",
    "print(qubits)\n",
    "\n",
    "single_exps = BatchExperiment(\n",
    "    [\n",
    "        StandardRB([qubit], lengths_1_qubit, num_samples=num_samples, seed=seed)\n",
    "        for qubit in qubits\n",
    "    ],\n",
    "    flatten_results=True,\n",
    ")\n",
    "expdata_1q = single_exps.run(backend).block_for_results()"
   ]
  },
  {
   "cell_type": "code",
   "execution_count": null,
   "metadata": {},
   "outputs": [],
   "source": [
    "lengths_1_qubit=np.arange(1,1200,120)\n",
    "exp_2q = StandardRB(qubits, lengths_2_qubit, num_samples=num_samples, seed=seed)\n",
    "exp_1q = StandardRB(qubits=[6], lengths=lengths_1_qubit, num_samples=num_samples, seed=seed)\n",
    "exp_2q.analysis.set_options(epg_1_qubit=expdata_1q.analysis_results())\n",
    "exps=[exp_1q,exp_2q]\n",
    "par_exp=ParallelExperiment(exps)\n",
    "par_expdata=par_exp.run(backend).block_for_results()\n",
    "par_expdata.save()\n",
    "par_results=par_expdata.analysis_results()\n",
    "sub_results=[]\n",
    "sub_results_list=[]\n",
    "for i in range(par_exp.num_experiments):\n",
    "    print(f\"Component experiment {i}\")\n",
    "    sub_data = par_expdata.component_experiment_data(i)\n",
    "    display(sub_data.figure(0))\n",
    "    sub_result=sub_data.analysis_results()\n",
    "    sub_results += sub_result\n",
    "    sub_results_list.append(sub_result)\n",
    "    for result in sub_result:\n",
    "        print(result)"
   ]
  },
  {
   "cell_type": "code",
   "execution_count": null,
   "metadata": {},
   "outputs": [],
   "source": [
    "from math import pi\n",
    "lengths = np.arange(1, 20, 3)\n",
    "num_samples = 3\n",
    "seed = 1010\n",
    "qubits = [4,5,6]\n",
    "print(backend)\n",
    "print(datetime.today())\n",
    "\n",
    "exp1 = StandardRB_dd(qubits, lengths, backend, num_samples=num_samples, seed=seed, dd_sequence=[XGate(),RZGate(pi),XGate(),XGate(),RZGate(pi),XGate(),XGate()])\n",
    "expdata1 = exp1.run(backend).block_for_results()\n",
    "results1 = expdata1.analysis_results()\n",
    "display(expdata1.figure(0))\n",
    "for result in results1:\n",
    "    print(result)\n",
    "exp2 = StandardRB(qubits, lengths, backend, num_samples=num_samples, seed=seed)\n",
    "expdata2 = exp2.run(backend).block_for_results()\n",
    "results2 = expdata2.analysis_results()\n",
    "display(expdata2.figure(0))\n",
    "for result in results2:\n",
    "    print(result)"
   ]
  },
  {
   "cell_type": "code",
   "execution_count": null,
   "metadata": {},
   "outputs": [],
   "source": [
    "def expected_alpha_3Q_num(N1,N2,alpha1,alpha2) :\n",
    "    return alpha1**(N1/3)*alpha2**(2*N2/3)*(1+3*alpha1**(N1/3)*alpha2**(N2/3)+3*alpha1**(2*N1/3)*alpha2**(N2/3))/7   \n",
    "def number_of_gates(circuit):\n",
    "    operation_count=circuit.count_ops()\n",
    "    num_single_gate=0\n",
    "    num_double_gate=0\n",
    "    if('sx' in operation_count):\n",
    "        num_single_gate+=operation_count['sx']\n",
    "    if('x' in operation_count):\n",
    "        num_single_gate+=operation_count['x']\n",
    "    if('rz' in operation_count):\n",
    "        num_single_gate+=operation_count['rz']\n",
    "    if('cx' in operation_count):\n",
    "        num_double_gate+=operation_count['cx']\n",
    "    if('i' in operation_count):\n",
    "        num_single_gate+=operation_count['i']\n",
    "    return num_single_gate,num_double_gate\n",
    "\n",
    "def expected_alpha_3Q(circuits,backend,alpha1,alpha2):\n",
    "    N1=0\n",
    "    N2=0\n",
    "    Clifford_num=0\n",
    "    for i in circuits:\n",
    "        clifford_num=(len(i.count_ops())-2)\n",
    "        Clifford_num+=clifford_num\n",
    "        transpiled=transpile(i,backend, optimization_level=0)\n",
    "       \n",
    "        n1,n2=number_of_gates(transpiled)\n",
    "        N1+=n1\n",
    "        N2+=n2\n",
    "        #print(i.count_ops())\n",
    "        #print(\"Average \"+str(n1/(clifford_num))+\" single gates & \"+str(n2/(clifford_num))+\" cx gates\")\n",
    "        \n",
    "    N1=N1/Clifford_num\n",
    "    N2=N2/Clifford_num\n",
    "    print(\"n1 :\"+str(N1)+\" n2 : \"+str(N2))\n",
    "    return expected_alpha_3Q_num(N1,N2,alpha1,alpha2)"
   ]
  },
  {
   "cell_type": "code",
   "execution_count": null,
   "metadata": {},
   "outputs": [],
   "source": [
    "alpha_1q= par_expdata.component_experiment_data(0).analysis_results()[1].value\n",
    "epc_corrected = par_expdata.component_experiment_data(1).analysis_results()[3].value\n",
    "alpha_2q= (1-3*epc_corrected/4)\n",
    "alpha_1q,alpha_2q"
   ]
  },
  {
   "cell_type": "code",
   "execution_count": null,
   "metadata": {},
   "outputs": [],
   "source": [
    "expected_alpha=expected_alpha_3Q(exp1.circuits(), backend, alpha_1q.nominal_value, alpha_2q.nominal_value)\n",
    "expected_alpha_wodd=expected_alpha_3Q(exp2.circuits(),backend,alpha_1q.nominal_value, alpha_2q.nominal_value)\n",
    "print(\"alpha by 3Q is \"+str(expdata1.analysis_results()[1].value.nominal_value)+\"\\nalpha predicted using dd \"+str(expected_alpha)+\"\\nalpha predicted w/o dd \"+str(expected_alpha_wodd))"
   ]
  },
  {
   "cell_type": "code",
   "execution_count": null,
   "metadata": {},
   "outputs": [],
   "source": []
  }
 ],
 "metadata": {
  "kernelspec": {
   "display_name": "Python 3",
   "language": "python",
   "name": "python3"
  },
  "language_info": {
   "codemirror_mode": {
    "name": "ipython",
    "version": 3
   },
   "file_extension": ".py",
   "mimetype": "text/x-python",
   "name": "python",
   "nbconvert_exporter": "python",
   "pygments_lexer": "ipython3",
   "version": "3.8.5"
  },
  "vscode": {
   "interpreter": {
    "hash": "f5099486be7cb007c45d59bc5fedd98e4e61c6eb8ee07dacbf786d781e9372c8"
   }
  }
 },
 "nbformat": 4,
 "nbformat_minor": 2
}
